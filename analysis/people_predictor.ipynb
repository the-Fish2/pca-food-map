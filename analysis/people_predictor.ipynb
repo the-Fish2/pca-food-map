{
 "cells": [
  {
   "cell_type": "code",
   "execution_count": 4,
   "metadata": {},
   "outputs": [],
   "source": [
    "# Predict where people fall on the map based on their food preferences\n",
    "import pickle\n",
    "\n",
    "with open(\"./pca_models/people_2d_model.pkl\", \"rb\") as fin:\n",
    "    pca_2d = pickle.load(fin)"
   ]
  },
  {
   "cell_type": "code",
   "execution_count": 71,
   "metadata": {},
   "outputs": [],
   "source": [
    "# Predict with new data\n",
    "import numpy as np\n",
    "from sklearn.preprocessing import StandardScaler\n",
    "\n",
    "def transform(prefs):\n",
    "    mean = np.nanmean(prefs)\n",
    "    for i in range(len(prefs)):\n",
    "        if np.isnan(prefs[i]):\n",
    "            prefs[i] = mean\n",
    "\n",
    "    std = np.std(prefs)\n",
    "    prefs = (prefs - mean) / std\n",
    "    \n",
    "    prefs = prefs.reshape(1, -1)\n",
    "\n",
    "    return pca_2d.transform(prefs)\n",
    "\n",
    "\n",
    "def get_point(spreadsheet_row):\n",
    "    prefs = []\n",
    "    parts = spreadsheet_row.strip().split(\"\\t\")[3:-2]\n",
    "\n",
    "    for part in parts:\n",
    "        prefs.append(np.nan if part == \"\" else float(part))\n",
    "\n",
    "    prefs = np.array(prefs)\n",
    "    return transform(prefs)"
   ]
  },
  {
   "cell_type": "code",
   "execution_count": 72,
   "metadata": {},
   "outputs": [
    {
     "name": "stdout",
     "output_type": "stream",
     "text": [
      "[[ 4.37142025 -2.23402267]]\n"
     ]
    }
   ],
   "source": [
    "col = \"\"\"\n",
    "7/19/2022 9:57:06\twomogenes2@gmail.com\tWilliam Y. Feng\t5\t1\t\t6\t6\t5\t5\t5\t7\t4\t5\t7\t7\t4\t4\t4\t\t5\t6\t4\t7\t4\t7\t1\t4\t2\t2\t2\t3\t4\t6\t4\t5\t4\t3\t3\t3\t5\t1\t1\t3\t6\t2\t5\t6\t4\t6\t6\t3\t\t16\tChinese\t\t\t\t\t\t\n",
    "\"\"\"\n",
    "\n",
    "print(get_point(col))"
   ]
  }
 ],
 "metadata": {
  "kernelspec": {
   "display_name": "Python 3.10.5 64-bit",
   "language": "python",
   "name": "python3"
  },
  "language_info": {
   "codemirror_mode": {
    "name": "ipython",
    "version": 3
   },
   "file_extension": ".py",
   "mimetype": "text/x-python",
   "name": "python",
   "nbconvert_exporter": "python",
   "pygments_lexer": "ipython3",
   "version": "3.10.5"
  },
  "orig_nbformat": 4,
  "vscode": {
   "interpreter": {
    "hash": "9a5507c129a05bfdc77ef541b8cef54ca34be21723ca2ada5f657bc6ecbd397c"
   }
  }
 },
 "nbformat": 4,
 "nbformat_minor": 2
}
